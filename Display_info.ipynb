{
 "cells": [
  {
   "cell_type": "code",
   "execution_count": 1,
   "id": "82dcd81f-4895-47c4-a9d5-a0b9b004bca3",
   "metadata": {},
   "outputs": [],
   "source": [
    "import json "
   ]
  },
  {
   "cell_type": "code",
   "execution_count": 2,
   "id": "3d397d41-08e6-4361-acac-fbd7017733f3",
   "metadata": {},
   "outputs": [],
   "source": [
    "def load_data(filename) :\n",
    "    with open (filename, 'r') as f :\n",
    "        data = json.load(f)\n",
    "    return data"
   ]
  },
  {
   "cell_type": "code",
   "execution_count": 4,
   "id": "ca707f28-e248-476c-b647-c7c071c487d4",
   "metadata": {},
   "outputs": [
    {
     "data": {
      "text/plain": [
       "{'users': [{'id': 1, 'name': 'Amit', 'friends': [2, 3], 'liked_pages': [101]},\n",
       "  {'id': 2, 'name': 'Priya', 'friends': [1, 4], 'liked_pages': [102]},\n",
       "  {'id': 3, 'name': 'Rahul', 'friends': [1], 'liked_pages': [101, 103]},\n",
       "  {'id': 4, 'name': 'Sara', 'friends': [2], 'liked_pages': [104]}],\n",
       " 'pages': [{'id': 101, 'name': 'Python Developers'},\n",
       "  {'id': 102, 'name': 'Data Science Enthusiasts'},\n",
       "  {'id': 103, 'name': 'AI & ML Community'},\n",
       "  {'id': 104, 'name': 'Web Dev Hub'}]}"
      ]
     },
     "execution_count": 4,
     "metadata": {},
     "output_type": "execute_result"
    }
   ],
   "source": [
    "data = load_data('data.json')\n",
    "data"
   ]
  },
  {
   "cell_type": "code",
   "execution_count": 5,
   "id": "5ba24101-adda-4d16-aff3-cd43cec38efb",
   "metadata": {},
   "outputs": [
    {
     "name": "stdout",
     "output_type": "stream",
     "text": [
      "User Connections are\n",
      "ID: 1 - Amit is friends with [2, 3] and liked pages are[101]\n",
      "ID: 2 - Priya is friends with [1, 4] and liked pages are[102]\n",
      "ID: 3 - Rahul is friends with [1] and liked pages are[101, 103]\n",
      "ID: 4 - Sara is friends with [2] and liked pages are[104]\n",
      "\n",
      "Pages information\n",
      "101, Python Developers\n",
      "102, Data Science Enthusiasts\n",
      "103, AI & ML Community\n",
      "104, Web Dev Hub\n"
     ]
    }
   ],
   "source": [
    "#wrting a function to display the names and connections\n",
    "\n",
    "def display_users(data) :\n",
    "    print(\"User Connections are\") \n",
    "    for user in data['users'] :\n",
    "        print(f\"ID: {user['id']} - {user['name']} is friends with {user['friends']} and liked pages are{user['liked_pages']}\")\n",
    "        \n",
    "    print(\"\\nPages information\") \n",
    "    for page in data['pages'] :\n",
    "        print(f\"{page['id']}, {page['name']}\")\n",
    "        \n",
    "display_users(data) "
   ]
  },
  {
   "cell_type": "code",
   "execution_count": null,
   "id": "4951b256-a797-4939-be28-c794ba229b0a",
   "metadata": {},
   "outputs": [],
   "source": []
  }
 ],
 "metadata": {
  "kernelspec": {
   "display_name": "Python 3 (ipykernel)",
   "language": "python",
   "name": "python3"
  },
  "language_info": {
   "codemirror_mode": {
    "name": "ipython",
    "version": 3
   },
   "file_extension": ".py",
   "mimetype": "text/x-python",
   "name": "python",
   "nbconvert_exporter": "python",
   "pygments_lexer": "ipython3",
   "version": "3.13.1"
  }
 },
 "nbformat": 4,
 "nbformat_minor": 5
}
