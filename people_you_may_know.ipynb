{
 "cells": [
  {
   "cell_type": "code",
   "execution_count": 4,
   "id": "f6559148-6632-4d1e-8e5b-b8b5012b8835",
   "metadata": {},
   "outputs": [
    {
     "name": "stdout",
     "output_type": "stream",
     "text": [
      "people you may know 1: [4]\n"
     ]
    }
   ],
   "source": [
    "import json\n",
    "def load_data(filename) :\n",
    "    with open(filename, 'r') as file :\n",
    "        return json.load(file)\n",
    "        \n",
    "def you_may_know(user_id, data) :\n",
    "\n",
    "    user_friends = {}\n",
    "\n",
    "    for user in data['users'] :\n",
    "        user_friends[user['id']] = set(user['friends'])\n",
    "\n",
    "    if user_id not in user_friends :\n",
    "        return []\n",
    "\n",
    "    direct_friends = user_friends[user_id]\n",
    "    suggetions = {}\n",
    "\n",
    "    for friend in direct_friends :\n",
    "        for mutual in user_friends[friend] :\n",
    "            if mutual != user_id and mutual not in direct_friends :\n",
    "                suggetions[mutual] = suggetions.get(mutual, 0) + 1\n",
    "    sorted_suggetions = sorted(suggetions.items(), key = lambda x : x[1], reverse = True) \n",
    "    return [user_id for user_id, _ in sorted_suggetions]\n",
    "    \n",
    "    \n",
    "data = load_data(\"data.json\") \n",
    "user_id = 1 \n",
    "recommendations = you_may_know(user_id, data)\n",
    "print(f\"people you may know {user_id}: {recommendations}\")"
   ]
  },
  {
   "cell_type": "code",
   "execution_count": null,
   "id": "6aebff1b-96d1-4e51-afe8-6205c158bad9",
   "metadata": {},
   "outputs": [],
   "source": []
  }
 ],
 "metadata": {
  "kernelspec": {
   "display_name": "Python 3 (ipykernel)",
   "language": "python",
   "name": "python3"
  },
  "language_info": {
   "codemirror_mode": {
    "name": "ipython",
    "version": 3
   },
   "file_extension": ".py",
   "mimetype": "text/x-python",
   "name": "python",
   "nbconvert_exporter": "python",
   "pygments_lexer": "ipython3",
   "version": "3.13.1"
  }
 },
 "nbformat": 4,
 "nbformat_minor": 5
}
