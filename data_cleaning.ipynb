{
 "cells": [
  {
   "cell_type": "code",
   "execution_count": 1,
   "id": "bcffe0b7-7e2a-48c6-89ce-b7883d2aa6c0",
   "metadata": {},
   "outputs": [],
   "source": [
    "import json"
   ]
  },
  {
   "cell_type": "code",
   "execution_count": 2,
   "id": "896c58e7-08a8-4e2d-84bc-c3e47c514527",
   "metadata": {},
   "outputs": [],
   "source": [
    "def clean_data(data) :\n",
    "    #remove users with empty names\n",
    "    data['users'] = [user for user in user['name'] if user['name'].strip()]\n",
    "\n",
    "    #remove duplicate friends\n",
    "    for user in data['user'] :\n",
    "        user['friends'] = list(set())\n",
    "    return data"
   ]
  },
  {
   "cell_type": "code",
   "execution_count": 3,
   "id": "94d30400-e258-4a3d-b6d1-706b53754153",
   "metadata": {},
   "outputs": [
    {
     "name": "stdout",
     "output_type": "stream",
     "text": [
      "The cleaning has been done succesfully\n"
     ]
    }
   ],
   "source": [
    "data = json.load(open('data.json'))\n",
    "data = clean_data(data)\n",
    "json.dump(data, open(\"cleaned_data2.json\", \"w\"), indent = 4)\n",
  
   ]
  },
  {
   "cell_type": "code",
   "execution_count": null,
   "id": "9efaceca-7f23-4faf-86e5-b41e8a3608ba",
   "metadata": {},
   "outputs": [],
   "source": [
    "data = json.load(open(\"data2.json\"))\n",
    "data = clean_data(data)\n",
    "\n",
    "json.dump(data, open(\"cleaned_data2.json\", \"w\"), indent = 4)\n",
    "print(\"The cleaning has been done succesfully\")"
   ]
  },
  {
   "cell_type": "code",
   "execution_count": null,
   "id": "2b73c39c-063e-4710-9847-1b20eb0d1a59",
   "metadata": {},
   "outputs": [],
   "source": [
    "#remove users with duplicate names\n",
    "    data[\"users\"] = [user for user in data[\"users\"] if user['name'].strip()]\n",
    "\n",
    "    #removing the duplicate friends\n",
    "    for user in data['users'] :\n",
    "        user['friends'] = list(set(user['friends']))\n",
    "\n",
    "    #remove inactive users\n",
    "    data['users'] = [user for user in data['users'] if user['friends'] or user['liked_pages']]\n",
    "\n",
    "    #remove duplicate pages\n",
    "\n",
    "    unique_pages = {}\n",
    "    for page in data['pages'] :\n",
    "        unique_pages[page['id']] = page\n",
    "    data['pages'] = list(unique_pages.values())"
   ]
  }
 ],
 "metadata": {
  "kernelspec": {
   "display_name": "Python 3 (ipykernel)",
   "language": "python",
   "name": "python3"
  },
  "language_info": {
   "codemirror_mode": {
    "name": "ipython",
    "version": 3
   },
   "file_extension": ".py",
   "mimetype": "text/x-python",
   "name": "python",
   "nbconvert_exporter": "python",
   "pygments_lexer": "ipython3",
   "version": "3.13.1"
  }
 },
 "nbformat": 4,
 "nbformat_minor": 5
}
